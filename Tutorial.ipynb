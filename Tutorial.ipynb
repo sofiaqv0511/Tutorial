{
 "cells": [
  {
   "cell_type": "markdown",
   "id": "4a708440",
   "metadata": {},
   "source": [
    "# INTRODUCCIÓN A PYTHON\n",
    "**Autora:** Sofía Quiroz Valencia\n",
    "\n",
    "El objetivo de este tutorial es introducir al lector en los conceptos fundamentales del lenguaje de programación Python, brindándole una comprensión básica de su sintaxis, estructura y principales herramientas. Al finalizar, el lector será capaz de escribir, ejecutar y comprender programas simples en Python, utilizando variables, tipos de datos, estructuras de control, funciones y manejo básico de listas y diccionarios."
   ]
  },
  {
   "cell_type": "markdown",
   "id": "22a169b0",
   "metadata": {},
   "source": [
    "# ¿Qué es Python?\n",
    "Python es un lenguaje de programación de alto nivel, interpretado y de propósito general. Es conocido por su sintaxis clara y legible."
   ]
  },
  {
   "cell_type": "markdown",
   "id": "4476785e",
   "metadata": {},
   "source": [
    "# 1. Primeros Pasos"
   ]
  },
  {
   "cell_type": "code",
   "execution_count": 3,
   "id": "f186cb04",
   "metadata": {},
   "outputs": [
    {
     "name": "stdout",
     "output_type": "stream",
     "text": [
      "¡Bienvenidos al tutorial de introducción a Python\n"
     ]
    }
   ],
   "source": [
    "print(\"¡Bienvenidos al tutorial de introducción a Python\")"
   ]
  },
  {
   "cell_type": "markdown",
   "id": "25cf2d9c",
   "metadata": {},
   "source": [
    "**Explicación:** print() es una función que muestra texto en la pantalla."
   ]
  },
  {
   "cell_type": "markdown",
   "id": "570a3c37",
   "metadata": {},
   "source": [
    "# 2.  Variables y Tipos de Datos"
   ]
  },
  {
   "cell_type": "markdown",
   "id": "09f9f9e1",
   "metadata": {},
   "source": [
    "**Variables Básicas**"
   ]
  },
  {
   "cell_type": "code",
   "execution_count": 4,
   "id": "9c5d2201",
   "metadata": {},
   "outputs": [
    {
     "name": "stdout",
     "output_type": "stream",
     "text": [
      "Sofía\n",
      "20\n"
     ]
    }
   ],
   "source": [
    "# String (texto)\n",
    "nombre = \"Sofía\"\n",
    "# Integer (entero)\n",
    "edad = 20\n",
    "# Float (decimal)\n",
    "altura = 1.45\n",
    "# Boolean (verdadero/falso)\n",
    "es_estudiante = True\n",
    "\n",
    "print(nombre)\n",
    "print(edad)"
   ]
  },
  {
   "cell_type": "markdown",
   "id": "f90a939e",
   "metadata": {},
   "source": [
    "**Tipos de datos comunes**"
   ]
  },
  {
   "cell_type": "code",
   "execution_count": 5,
   "id": "ea838b69",
   "metadata": {},
   "outputs": [],
   "source": [
    "# Texto\n",
    "texto = \"Hola Python\"\n",
    "\n",
    "# Números\n",
    "entero = 10\n",
    "decimal = 3.14\n",
    "\n",
    "# Booleanos\n",
    "verdadero = True\n",
    "falso = False\n",
    "\n",
    "# Lista\n",
    "frutas = [\"manzana\", \"banana\", \"naranja\"]\n",
    "\n",
    "# Tupla (inmutable)\n",
    "coordenadas = (10, 20)\n",
    "\n",
    "# Diccionario\n",
    "persona = {\"nombre\": \"Juan\", \"edad\": 30}"
   ]
  },
  {
   "cell_type": "markdown",
   "id": "7ee6e391",
   "metadata": {},
   "source": [
    "# 3. Operadores"
   ]
  },
  {
   "cell_type": "markdown",
   "id": "1f71d12a",
   "metadata": {},
   "source": [
    "**Operaciones Básicas**"
   ]
  },
  {
   "cell_type": "code",
   "execution_count": 6,
   "id": "131ec6b8",
   "metadata": {},
   "outputs": [],
   "source": [
    "# Definir las variables\n",
    "a = 10\n",
    "b = 3"
   ]
  },
  {
   "cell_type": "code",
   "execution_count": 7,
   "id": "8fca7ac0",
   "metadata": {},
   "outputs": [],
   "source": [
    "# Hacer Operaciones\n",
    "suma = a + b          \n",
    "resta = a - b         \n",
    "multiplicacion = a * b\n",
    "division = a / b      \n",
    "modulo = a % b        \n",
    "potencia = a ** b     "
   ]
  },
  {
   "cell_type": "code",
   "execution_count": 8,
   "id": "e068de2f",
   "metadata": {},
   "outputs": [
    {
     "name": "stdout",
     "output_type": "stream",
     "text": [
      "13\n",
      "7\n",
      "30\n",
      "3.3333333333333335\n",
      "1\n",
      "1000\n"
     ]
    }
   ],
   "source": [
    "# Mostrar los resultados\n",
    "print (suma)\n",
    "print (resta)\n",
    "print (multiplicacion)\n",
    "print (division)\n",
    "print (modulo)\n",
    "print (potencia)"
   ]
  },
  {
   "cell_type": "markdown",
   "id": "235157f1",
   "metadata": {},
   "source": [
    "**Operadores de comparación**"
   ]
  },
  {
   "cell_type": "code",
   "execution_count": 9,
   "id": "875bc834",
   "metadata": {},
   "outputs": [],
   "source": [
    "# Definir las variables\n",
    "x = 5\n",
    "y = 10"
   ]
  },
  {
   "cell_type": "code",
   "execution_count": 10,
   "id": "5bb1070d",
   "metadata": {},
   "outputs": [],
   "source": [
    "# Comparaciones entre las variables\n",
    "igual = x == y        \n",
    "diferente = x != y    \n",
    "mayor_que = x > y     \n",
    "menor_que = x < y     "
   ]
  },
  {
   "cell_type": "code",
   "execution_count": 11,
   "id": "f3537475",
   "metadata": {},
   "outputs": [
    {
     "name": "stdout",
     "output_type": "stream",
     "text": [
      "False\n",
      "True\n",
      "False\n",
      "True\n"
     ]
    }
   ],
   "source": [
    "# Mostrar Resultados\n",
    "print (igual)\n",
    "print (diferente)\n",
    "print (mayor_que)\n",
    "print (menor_que)"
   ]
  },
  {
   "cell_type": "markdown",
   "id": "54b2dd08",
   "metadata": {},
   "source": [
    "# 4. Estructuras de Control"
   ]
  },
  {
   "cell_type": "markdown",
   "id": "9f8936db",
   "metadata": {},
   "source": [
    "**Condicionales (if, elif, else)**"
   ]
  },
  {
   "cell_type": "code",
   "execution_count": 12,
   "id": "1622493b",
   "metadata": {},
   "outputs": [],
   "source": [
    "# Elegir una edad\n",
    "edad = 20"
   ]
  },
  {
   "cell_type": "code",
   "execution_count": 13,
   "id": "397a936d",
   "metadata": {},
   "outputs": [
    {
     "name": "stdout",
     "output_type": "stream",
     "text": [
      "Eres mayor de edad\n"
     ]
    }
   ],
   "source": [
    "# Condiciones\n",
    "if edad >= 18:\n",
    "    print(\"Eres mayor de edad\")\n",
    "elif edad >= 13:\n",
    "    print(\"Eres un adolescente\")\n",
    "else:\n",
    "    print(\"Eres un niño\")"
   ]
  },
  {
   "cell_type": "markdown",
   "id": "f91043cf",
   "metadata": {},
   "source": [
    "**Bucles**"
   ]
  },
  {
   "cell_type": "markdown",
   "id": "11f6e7df",
   "metadata": {},
   "source": [
    "Bucle for"
   ]
  },
  {
   "cell_type": "code",
   "execution_count": 14,
   "id": "c67deace",
   "metadata": {},
   "outputs": [
    {
     "name": "stdout",
     "output_type": "stream",
     "text": [
      "Me gusta la manzana\n",
      "Me gusta la banana\n",
      "Me gusta la naranja\n",
      "Número: 0\n",
      "Número: 1\n",
      "Número: 2\n",
      "Número: 3\n",
      "Número: 4\n"
     ]
    }
   ],
   "source": [
    "# Recorrer una lista\n",
    "frutas = [\"manzana\", \"banana\", \"naranja\"]\n",
    "\n",
    "for fruta in frutas:\n",
    "    print(f\"Me gusta la {fruta}\")\n",
    "\n",
    "# Bucle con range\n",
    "for i in range(5):\n",
    "    print(f\"Número: {i}\")"
   ]
  },
  {
   "cell_type": "markdown",
   "id": "368cc92f",
   "metadata": {},
   "source": [
    "Bucle while"
   ]
  },
  {
   "cell_type": "code",
   "execution_count": 15,
   "id": "589f0fb8",
   "metadata": {},
   "outputs": [
    {
     "name": "stdout",
     "output_type": "stream",
     "text": [
      "Contador: 0\n",
      "Contador: 1\n",
      "Contador: 2\n",
      "Contador: 3\n",
      "Contador: 4\n"
     ]
    }
   ],
   "source": [
    "contador = 0\n",
    "\n",
    "while contador < 5:\n",
    "    print(f\"Contador: {contador}\")\n",
    "    contador += 1  # Incrementar el contador"
   ]
  },
  {
   "cell_type": "markdown",
   "id": "9d67c770",
   "metadata": {},
   "source": [
    "# 5. Funciones "
   ]
  },
  {
   "cell_type": "markdown",
   "id": "57918641",
   "metadata": {},
   "source": [
    "**Función Básica**"
   ]
  },
  {
   "cell_type": "code",
   "execution_count": 16,
   "id": "f59dbd89",
   "metadata": {},
   "outputs": [
    {
     "name": "stdout",
     "output_type": "stream",
     "text": [
      "Hola, Ana!\n"
     ]
    }
   ],
   "source": [
    "def saludar(nombre):\n",
    "    return f\"Hola, {nombre}!\"\n",
    "\n",
    "# Llamar a la función\n",
    "mensaje = saludar(\"Ana\")\n",
    "print(mensaje)"
   ]
  },
  {
   "cell_type": "markdown",
   "id": "0f570f05",
   "metadata": {},
   "source": [
    "**Función con múltiples parámetros**"
   ]
  },
  {
   "cell_type": "code",
   "execution_count": 17,
   "id": "73949264",
   "metadata": {},
   "outputs": [
    {
     "name": "stdout",
     "output_type": "stream",
     "text": [
      "El área es: 15\n"
     ]
    }
   ],
   "source": [
    "def calcular_area_rectangulo(base, altura):\n",
    "    area = base * altura\n",
    "    return area\n",
    "\n",
    "resultado = calcular_area_rectangulo(5, 3)\n",
    "print(f\"El área es: {resultado}\")"
   ]
  },
  {
   "cell_type": "markdown",
   "id": "9adac83b",
   "metadata": {},
   "source": [
    "# 7. Listas"
   ]
  },
  {
   "cell_type": "code",
   "execution_count": 18,
   "id": "33ae4ca4",
   "metadata": {},
   "outputs": [
    {
     "name": "stdout",
     "output_type": "stream",
     "text": [
      "[1, 2, 4, 5, 6]\n"
     ]
    }
   ],
   "source": [
    "# Crear lista\n",
    "numeros = [1, 2, 3, 4, 5]\n",
    "\n",
    "# Acceder a elementos\n",
    "primer_elemento = numeros[0]    # 1\n",
    "ultimo_elemento = numeros[-1]   # 5\n",
    "\n",
    "# Modificar lista\n",
    "numeros.append(6)           # Agregar elemento\n",
    "numeros.remove(3)           # Eliminar elemento\n",
    "longitud = len(numeros)     # Obtener longitud\n",
    "\n",
    "print(numeros)"
   ]
  },
  {
   "cell_type": "markdown",
   "id": "13c56484",
   "metadata": {},
   "source": [
    "# 8. Diccionarios"
   ]
  },
  {
   "cell_type": "code",
   "execution_count": 19,
   "id": "f793cd4c",
   "metadata": {},
   "outputs": [
    {
     "name": "stdout",
     "output_type": "stream",
     "text": [
      "Carlos\n",
      "20\n",
      "{'nombre': 'Carlos', 'edad': 21, 'curso': 'Python', 'ciudad': 'Madrid'}\n"
     ]
    }
   ],
   "source": [
    "# Crear diccionario\n",
    "estudiante = {\n",
    "    \"nombre\": \"Carlos\",\n",
    "    \"edad\": 20,\n",
    "    \"curso\": \"Python\"\n",
    "}\n",
    "\n",
    "# Acceder a valores\n",
    "print(estudiante[\"nombre\"])     # Carlos\n",
    "print(estudiante.get(\"edad\"))   # 20\n",
    "\n",
    "# Modificar diccionario\n",
    "estudiante[\"edad\"] = 21\n",
    "estudiante[\"ciudad\"] = \"Madrid\"  # Agregar nueva clave\n",
    "\n",
    "print(estudiante)"
   ]
  },
  {
   "cell_type": "markdown",
   "id": "71f9d354",
   "metadata": {},
   "source": [
    "# 9. Manejo de Errores"
   ]
  },
  {
   "cell_type": "code",
   "execution_count": 20,
   "id": "b6070552",
   "metadata": {},
   "outputs": [
    {
     "name": "stdout",
     "output_type": "stream",
     "text": [
      "Error: Debes ingresar un número válido\n"
     ]
    }
   ],
   "source": [
    "try:\n",
    "    numero = int(input(\"Ingresa un número: \"))\n",
    "    resultado = 10 / numero\n",
    "    print(f\"Resultado: {resultado}\")\n",
    "except ZeroDivisionError:\n",
    "    print(\"Error: No se puede dividir por cero\")\n",
    "except ValueError:\n",
    "    print(\"Error: Debes ingresar un número válido\")\n",
    "except Exception as e:\n",
    "    print(f\"Ocurrió un error: {e}\")"
   ]
  },
  {
   "cell_type": "markdown",
   "id": "dfe0f905",
   "metadata": {},
   "source": [
    "# 10. Ejemplo Completo"
   ]
  },
  {
   "cell_type": "code",
   "execution_count": null,
   "id": "372855c5",
   "metadata": {},
   "outputs": [],
   "source": [
    "# Programa simple de gestión de contactos\n",
    "\n",
    "def agregar_contacto(agenda, nombre, telefono):\n",
    "    agenda[nombre] = telefono\n",
    "    print(f\"Contacto {nombre} agregado exitosamente\")\n",
    "\n",
    "def mostrar_contactos(agenda):\n",
    "    print(\"\\n--- LISTA DE CONTACTOS ---\")\n",
    "    for nombre, telefono in agenda.items():\n",
    "        print(f\"{nombre}: {telefono}\")\n",
    "\n",
    "# Programa principal\n",
    "agenda = {}\n",
    "\n",
    "while True:\n",
    "    print(\"\\n1. Agregar contacto\")\n",
    "    print(\"2. Ver contactos\")\n",
    "    print(\"3. Salir\")\n",
    "    \n",
    "    opcion = input(\"Selecciona una opción: \")\n",
    "    \n",
    "    if opcion == \"1\":\n",
    "        nombre = input(\"Nombre: \")\n",
    "        telefono = input(\"Teléfono: \")\n",
    "        agregar_contacto(agenda, nombre, telefono)\n",
    "    \n",
    "    elif opcion == \"2\":\n",
    "        mostrar_contactos(agenda)\n",
    "    \n",
    "    elif opcion == \"3\":\n",
    "        print(\"¡Hasta luego!\")\n",
    "        break\n",
    "    \n",
    "    else:\n",
    "        print(\"Opción no válida\")"
   ]
  },
  {
   "cell_type": "markdown",
   "id": "e73ed4f6",
   "metadata": {},
   "source": [
    "# 11. Instalar y Cargar Librerias \n"
   ]
  },
  {
   "cell_type": "code",
   "execution_count": null,
   "id": "1faf6c0e",
   "metadata": {},
   "outputs": [],
   "source": [
    "#Instalar Librerias\n",
    "! pip install pandas\n",
    "! pip install numpy\n",
    "! pip install matplotlib\n",
    "! pip install seaborn\n"
   ]
  },
  {
   "cell_type": "code",
   "execution_count": 11,
   "id": "8d1d8a99",
   "metadata": {},
   "outputs": [],
   "source": [
    "#Cargar Librerias \n",
    "import pandas as pd\n",
    "import numpy as np\n",
    "import matplotlib.pyplot as plt\n",
    "import seaborn as sns\n",
    "from io import StringIO\n",
    "import requests "
   ]
  },
  {
   "cell_type": "markdown",
   "id": "b85ca0f2",
   "metadata": {},
   "source": [
    "# 12. Importar una base de datos desde GitHub "
   ]
  },
  {
   "cell_type": "code",
   "execution_count": 8,
   "id": "7d572f59",
   "metadata": {},
   "outputs": [
    {
     "name": "stdout",
     "output_type": "stream",
     "text": [
      "   total_bill   tip     sex smoker  day    time  size\n",
      "0       16.99  1.01  Female     No  Sun  Dinner     2\n",
      "1       10.34  1.66    Male     No  Sun  Dinner     3\n",
      "2       21.01  3.50    Male     No  Sun  Dinner     3\n",
      "3       23.68  3.31    Male     No  Sun  Dinner     2\n",
      "4       24.59  3.61  Female     No  Sun  Dinner     4\n"
     ]
    }
   ],
   "source": [
    "url = \"https://raw.githubusercontent.com/mwaskom/seaborn-data/master/tips.csv\"\n",
    "df = pd.read_csv(url)\n",
    "\n",
    "# Ver las primeras filas\n",
    "print(df.head())"
   ]
  },
  {
   "cell_type": "markdown",
   "id": "7f07e3d0",
   "metadata": {},
   "source": [
    "Esta base recopila información sobre propinas dadas en un restaurante y es ampliamente utilizada para practicar análisis y visualización de datos en Python. El objetivo principal es examinar qué factores pueden influir en el monto de las propinas, considerando variables como el día de la semana, el género del mesero, si el cliente era fumador o no, y el tamaño del grupo atendido. La base contiene variables como total_bill (total de la cuenta en dólares), tip (monto de la propina), sex (sexo del mesero), smoker (si el cliente era fumador), day (día de la semana), time (momento del día, almuerzo o cena) y size (número de personas en la mesa). A partir de estos datos, se desarrollarán diferentes ejercicios, como la carga y exploración de la base, el cálculo de estadísticas descriptivas, la creación de gráficos (histogramas, tortas y dispersión), tablas de frecuencia, nuevas variables y análisis visuales utilizando la librería Seaborn."
   ]
  },
  {
   "cell_type": "markdown",
   "id": "8a7c3972",
   "metadata": {},
   "source": [
    "# 13. Estadisticas Descriptivas"
   ]
  },
  {
   "cell_type": "code",
   "execution_count": 9,
   "id": "cbcd0dd2",
   "metadata": {},
   "outputs": [
    {
     "name": "stdout",
     "output_type": "stream",
     "text": [
      "       total_bill         tip        size\n",
      "count  244.000000  244.000000  244.000000\n",
      "mean    19.785943    2.998279    2.569672\n",
      "std      8.902412    1.383638    0.951100\n",
      "min      3.070000    1.000000    1.000000\n",
      "25%     13.347500    2.000000    2.000000\n",
      "50%     17.795000    2.900000    2.000000\n",
      "75%     24.127500    3.562500    3.000000\n",
      "max     50.810000   10.000000    6.000000\n",
      "<class 'pandas.core.frame.DataFrame'>\n",
      "RangeIndex: 244 entries, 0 to 243\n",
      "Data columns (total 7 columns):\n",
      " #   Column      Non-Null Count  Dtype  \n",
      "---  ------      --------------  -----  \n",
      " 0   total_bill  244 non-null    float64\n",
      " 1   tip         244 non-null    float64\n",
      " 2   sex         244 non-null    object \n",
      " 3   smoker      244 non-null    object \n",
      " 4   day         244 non-null    object \n",
      " 5   time        244 non-null    object \n",
      " 6   size        244 non-null    int64  \n",
      "dtypes: float64(2), int64(1), object(4)\n",
      "memory usage: 13.5+ KB\n",
      "None\n"
     ]
    }
   ],
   "source": [
    "# Resumen estadístico\n",
    "print(df.describe())\n",
    "\n",
    "# Información general del DataFrame\n",
    "print(df.info())"
   ]
  },
  {
   "cell_type": "markdown",
   "id": "a40984ac",
   "metadata": {},
   "source": [
    "# 14. Gráficos básicos (histograma, torta y dispersión)"
   ]
  },
  {
   "cell_type": "code",
   "execution_count": 12,
   "id": "33b80255",
   "metadata": {},
   "outputs": [
    {
     "data": {
      "image/png": "[encoded data removed]",
      "text/plain": [
       "<Figure size 640x480 with 1 Axes>"
      ]
     },
     "metadata": {},
     "output_type": "display_data"
    }
   ],
   "source": [
    "# Histograma\n",
    "plt.hist(df['total_bill'], bins=10)\n",
    "plt.title('Histograma: Total de la cuenta')\n",
    "plt.show()"
   ]
  },
  {
   "cell_type": "code",
   "execution_count": 13,
   "id": "4adbe5ac",
   "metadata": {},
   "outputs": [
    {
     "data": {
      "image/png": "[encoded data removed]",
      "text/plain": [
       "<Figure size 640x480 with 1 Axes>"
      ]
     },
     "metadata": {},
     "output_type": "display_data"
    }
   ],
   "source": [
    "# Gráfico de torta\n",
    "df['day'].value_counts().plot.pie(autopct='%1.1f%%')\n",
    "plt.title('Distribución por día')\n",
    "plt.show()"
   ]
  },
  {
   "cell_type": "code",
   "execution_count": 14,
   "id": "2701258d",
   "metadata": {},
   "outputs": [
    {
     "data": {
      "image/png": "[encoded data removed]",
      "text/plain": [
       "<Figure size 640x480 with 1 Axes>"
      ]
     },
     "metadata": {},
     "output_type": "display_data"
    }
   ],
   "source": [
    "# Dispersión (scatter plot)\n",
    "sns.scatterplot(x='total_bill', y='tip', data=df)\n",
    "plt.title('Relación entre total de la cuenta y propina')\n",
    "plt.show()"
   ]
  },
  {
   "cell_type": "markdown",
   "id": "597ea3eb",
   "metadata": {},
   "source": [
    "# 15. Tablas de frecuencia y conteos"
   ]
  },
  {
   "cell_type": "code",
   "execution_count": 15,
   "id": "9d90efab",
   "metadata": {},
   "outputs": [
    {
     "name": "stdout",
     "output_type": "stream",
     "text": [
      "day\n",
      "Sat     87\n",
      "Sun     76\n",
      "Thur    62\n",
      "Fri     19\n",
      "Name: count, dtype: int64\n",
      "day\n",
      "Sat     0.356557\n",
      "Sun     0.311475\n",
      "Thur    0.254098\n",
      "Fri     0.077869\n",
      "Name: proportion, dtype: float64\n"
     ]
    }
   ],
   "source": [
    "# Frecuencia por día\n",
    "print(df['day'].value_counts())\n",
    "\n",
    "# Frecuencia relativa\n",
    "print(df['day'].value_counts(normalize=True))\n"
   ]
  },
  {
   "cell_type": "markdown",
   "id": "016ede8c",
   "metadata": {},
   "source": [
    "# 16. Filtrar y seleccionar datos"
   ]
  },
  {
   "cell_type": "code",
   "execution_count": 16,
   "id": "a129e6fd",
   "metadata": {},
   "outputs": [
    {
     "name": "stdout",
     "output_type": "stream",
     "text": [
      "    total_bill   tip     sex smoker  day    time  size\n",
      "23       39.42  7.58    Male     No  Sat  Dinner     4\n",
      "44       30.40  5.60    Male     No  Sun  Dinner     4\n",
      "47       32.40  6.00    Male     No  Sun  Dinner     4\n",
      "52       34.81  5.20  Female     No  Sun  Dinner     4\n",
      "59       48.27  6.73    Male     No  Sat  Dinner     4\n"
     ]
    }
   ],
   "source": [
    "# Filtrar solo las filas donde la propina es mayor a 5\n",
    "df_filtrado = df[df['tip'] > 5]\n",
    "print(df_filtrado.head())\n"
   ]
  },
  {
   "cell_type": "markdown",
   "id": "6b8fc53b",
   "metadata": {},
   "source": [
    "# 17. Crear nuevas variables"
   ]
  },
  {
   "cell_type": "code",
   "execution_count": 17,
   "id": "e43f65df",
   "metadata": {},
   "outputs": [
    {
     "name": "stdout",
     "output_type": "stream",
     "text": [
      "   total_bill   tip    tip_pct\n",
      "0       16.99  1.01   5.944673\n",
      "1       10.34  1.66  16.054159\n",
      "2       21.01  3.50  16.658734\n",
      "3       23.68  3.31  13.978041\n",
      "4       24.59  3.61  14.680765\n"
     ]
    }
   ],
   "source": [
    "# Crear una columna con el porcentaje de propina\n",
    "df['tip_pct'] = (df['tip'] / df['total_bill']) * 100\n",
    "print(df[['total_bill', 'tip', 'tip_pct']].head())\n"
   ]
  },
  {
   "cell_type": "markdown",
   "id": "236a23a5",
   "metadata": {},
   "source": [
    "# 18. Agrupar y resumir datos"
   ]
  },
  {
   "cell_type": "code",
   "execution_count": 18,
   "id": "22d23834",
   "metadata": {},
   "outputs": [
    {
     "name": "stdout",
     "output_type": "stream",
     "text": [
      "day\n",
      "Fri     2.734737\n",
      "Sat     2.993103\n",
      "Sun     3.255132\n",
      "Thur    2.771452\n",
      "Name: tip, dtype: float64\n"
     ]
    }
   ],
   "source": [
    "# Promedio de propina por día\n",
    "promedio_por_dia = df.groupby('day')['tip'].mean()\n",
    "print(promedio_por_dia)\n"
   ]
  },
  {
   "cell_type": "markdown",
   "id": "8fb28c61",
   "metadata": {},
   "source": [
    "# 19. Exportar los resultados a un archivo CSV"
   ]
  },
  {
   "cell_type": "code",
   "execution_count": 19,
   "id": "1ae01367",
   "metadata": {},
   "outputs": [
    {
     "name": "stdout",
     "output_type": "stream",
     "text": [
      "Archivo guardado exitosamente ✅\n"
     ]
    }
   ],
   "source": [
    "df.to_csv('resultados_propinas.csv', index=False)\n",
    "print(\"Archivo guardado exitosamente ✅\")"
   ]
  },
  {
   "cell_type": "markdown",
   "id": "05a1ca0b",
   "metadata": {},
   "source": [
    "# 10. Hacer un gráfico avanzado con Seaborn"
   ]
  },
  {
   "cell_type": "code",
   "execution_count": 20,
   "id": "d219766e",
   "metadata": {},
   "outputs": [
    {
     "data": {
      "image/png": "[encoded data removed]",
      "text/plain": [
       "<Figure size 640x480 with 1 Axes>"
      ]
     },
     "metadata": {},
     "output_type": "display_data"
    }
   ],
   "source": [
    "# Boxplot para comparar la distribución de propinas por día\n",
    "sns.boxplot(x='day', y='tip', data=df)\n",
    "plt.title('Propinas por día')\n",
    "plt.show()\n"
   ]
  }
 ],
 "metadata": {
  "kernelspec": {
   "display_name": "Python 3",
   "language": "python",
   "name": "python3"
  },
  "language_info": {
   "codemirror_mode": {
    "name": "ipython",
    "version": 3
   },
   "file_extension": ".py",
   "mimetype": "text/x-python",
   "name": "python",
   "nbconvert_exporter": "python",
   "pygments_lexer": "ipython3",
   "version": "3.13.5"
  }
 },
 "nbformat": 4,
 "nbformat_minor": 5
}
